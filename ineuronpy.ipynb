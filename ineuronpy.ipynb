{
 "cells": [
  {
   "cell_type": "code",
   "execution_count": 1,
   "metadata": {
    "scrolled": true
   },
   "outputs": [
    {
     "name": "stdout",
     "output_type": "stream",
     "text": [
      "mohan\n"
     ]
    }
   ],
   "source": [
    "###task1###ass1\n",
    "print('mohan')"
   ]
  },
  {
   "cell_type": "code",
   "execution_count": 5,
   "metadata": {},
   "outputs": [
    {
     "name": "stdout",
     "output_type": "stream",
     "text": [
      "enter starting number:2000\n",
      "enter ending number:3200\n",
      "[2002, 2009, 2016, 2023, 2037, 2044, 2051, 2058, 2072, 2079, 2086, 2093, 2107, 2114, 2121, 2128, 2142, 2149, 2156, 2163, 2177, 2184, 2191, 2198, 2212, 2219, 2226, 2233, 2247, 2254, 2261, 2268, 2282, 2289, 2296, 2303, 2317, 2324, 2331, 2338, 2352, 2359, 2366, 2373, 2387, 2394, 2401, 2408, 2422, 2429, 2436, 2443, 2457, 2464, 2471, 2478, 2492, 2499, 2506, 2513, 2527, 2534, 2541, 2548, 2562, 2569, 2576, 2583, 2597, 2604, 2611, 2618, 2632, 2639, 2646, 2653, 2667, 2674, 2681, 2688, 2702, 2709, 2716, 2723, 2737, 2744, 2751, 2758, 2772, 2779, 2786, 2793, 2807, 2814, 2821, 2828, 2842, 2849, 2856, 2863, 2877, 2884, 2891, 2898, 2912, 2919, 2926, 2933, 2947, 2954, 2961, 2968, 2982, 2989, 2996, 3003, 3017, 3024, 3031, 3038, 3052, 3059, 3066, 3073, 3087, 3094, 3101, 3108, 3122, 3129, 3136, 3143, 3157, 3164, 3171, 3178, 3192, 3199]\n"
     ]
    }
   ],
   "source": [
    "#####task1####ass2\n",
    "x=int(input('enter starting number:'))\n",
    "y=int(input('enter ending number:'))\n",
    "z=[]\n",
    "for i in range( x,y+1):\n",
    "    if i%7==0 and i%5!=0:\n",
    "        z.append(i)\n",
    "        \n",
    "print(z)       "
   ]
  },
  {
   "cell_type": "code",
   "execution_count": 11,
   "metadata": {},
   "outputs": [
    {
     "name": "stdout",
     "output_type": "stream",
     "text": [
      "enter ur first name:mohan\n",
      "enter ur last name:panga\n",
      "mohan panga\n",
      "reversed my name; agnap nahom\n",
      " method1------reversed my name ...first surname and second my name.... panga mohan\n",
      " method2------reversed my name ...first surname and second my name.... panga mohan\n"
     ]
    }
   ],
   "source": [
    "####task1##ass3\n",
    "x=input('enter ur first name:')\n",
    "y=input('enter ur last name:')\n",
    "my_name=x+' '+y\n",
    "print(my_name)\n",
    "print('reversed my name;',my_name[::-1])\n",
    "print(' method1------reversed my name ...first surname and second my name....',y+' '+x)\n",
    "mynameList=my_name.split(' ')\n",
    "print(' method2------reversed my name ...first surname and second my name....',mynameList[1]+' '+mynameList[0])\n"
   ]
  },
  {
   "cell_type": "code",
   "execution_count": 12,
   "metadata": {},
   "outputs": [
    {
     "name": "stdout",
     "output_type": "stream",
     "text": [
      "Radius of sphere: 6\n",
      "Volume of sphere:  905.1428571428571\n"
     ]
    }
   ],
   "source": [
    "pi=22/7\n",
    "rad = float(input('Radius of sphere: '))\n",
    "volume = (4/3) * (pi * rad ** 3)\n",
    "print(\"Volume of sphere: \", volume)"
   ]
  },
  {
   "cell_type": "code",
   "execution_count": 16,
   "metadata": {},
   "outputs": [
    {
     "name": "stdout",
     "output_type": "stream",
     "text": [
      "enter comma separated values:23,3,4,5\n",
      "[23, 3, 4, 5]\n"
     ]
    }
   ],
   "source": [
    "x=[int(each) for each in input('enter comma separated values:').split(',')]\n",
    "print(x)\n"
   ]
  },
  {
   "cell_type": "code",
   "execution_count": 20,
   "metadata": {},
   "outputs": [
    {
     "name": "stdout",
     "output_type": "stream",
     "text": [
      "enter a number:5\n",
      "* \n",
      "* * \n",
      "* * * \n",
      "* * * * \n",
      "* * * * * \n",
      "* * * * \n",
      "* * * \n",
      "* * \n",
      "* \n",
      "\n"
     ]
    }
   ],
   "source": [
    "num=int(input('enter a number:'))\n",
    "for i in range(1,num+1):\n",
    "    for j in range(1,i+1):\n",
    "        print('*',end=' ' )\n",
    "    print()\n",
    "for a in range(1,num+1):\n",
    "    for k in range(1,num+1-a):\n",
    "        print('*',end=' ')\n",
    "    print()\n",
    "    \n"
   ]
  },
  {
   "cell_type": "code",
   "execution_count": 21,
   "metadata": {},
   "outputs": [
    {
     "name": "stdout",
     "output_type": "stream",
     "text": [
      "enter ur name:mohan\n",
      "reversed my name; nahom\n"
     ]
    }
   ],
   "source": [
    "x=input('enter ur name:')\n",
    "print('reversed my name;',x[::-1])"
   ]
  },
  {
   "cell_type": "code",
   "execution_count": 22,
   "metadata": {},
   "outputs": [
    {
     "name": "stdout",
     "output_type": "stream",
     "text": [
      "WE, THE PEOPLE OF INDIA,\n",
      "\thaving solemnly resolved to constitute India into a SOVEREIGN,! \n",
      "\t\tSOCIALIST, SECULAR, DEMOCRATIC REPUBLIC \n",
      "\t\t and to secure to all its citizens\n"
     ]
    }
   ],
   "source": [
    "print(\"WE, THE PEOPLE OF INDIA,\\n\\thaving solemnly resolved to constitute India into a SOVEREIGN,! \\n\\t\\tSOCIALIST, SECULAR, DEMOCRATIC REPUBLIC \\n\\t\\t and to secure to all its citizens\")"
   ]
  },
  {
   "cell_type": "code",
   "execution_count": null,
   "metadata": {},
   "outputs": [],
   "source": []
  }
 ],
 "metadata": {
  "kernelspec": {
   "display_name": "Python 3",
   "language": "python",
   "name": "python3"
  },
  "language_info": {
   "codemirror_mode": {
    "name": "ipython",
    "version": 3
   },
   "file_extension": ".py",
   "mimetype": "text/x-python",
   "name": "python",
   "nbconvert_exporter": "python",
   "pygments_lexer": "ipython3",
   "version": "3.7.4"
  }
 },
 "nbformat": 4,
 "nbformat_minor": 2
}
